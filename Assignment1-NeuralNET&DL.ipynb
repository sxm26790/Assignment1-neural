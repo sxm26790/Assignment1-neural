{
 "cells": [
  {
   "cell_type": "code",
   "execution_count": 22,
   "id": "1840be0d",
   "metadata": {},
   "outputs": [
    {
     "name": "stdout",
     "output_type": "stream",
     "text": [
      "Requirement already satisfied: xlrd==1.2.0 in /Users/saharshamuddagouni/opt/anaconda3/lib/python3.9/site-packages (1.2.0)\n",
      "Note: you may need to restart the kernel to use updated packages.\n"
     ]
    }
   ],
   "source": [
    "pip install xlrd==1.2.0"
   ]
  },
  {
   "cell_type": "code",
   "execution_count": 29,
   "id": "61427284",
   "metadata": {},
   "outputs": [
    {
     "name": "stdout",
     "output_type": "stream",
     "text": [
      "Train Accuracy:  56.14\n",
      "Test Accuracy:  55.81\n",
      "\n",
      "Classification Report: \n",
      "               precision    recall  f1-score   support\n",
      "\n",
      "           1       0.41      0.64      0.50        11\n",
      "           2       0.43      0.21      0.29        14\n",
      "           3       0.40      0.67      0.50         3\n",
      "           5       0.50      0.25      0.33         4\n",
      "           6       1.00      1.00      1.00         3\n",
      "           7       0.89      1.00      0.94         8\n",
      "\n",
      "    accuracy                           0.56        43\n",
      "   macro avg       0.60      0.63      0.59        43\n",
      "weighted avg       0.55      0.56      0.53        43\n",
      "\n"
     ]
    }
   ],
   "source": [
    "#Importing the libraries\n",
    "import pandas as pd\n",
    "import numpy as np\n",
    "import pandas as pd\n",
    "import sklearn\n",
    "from sklearn.model_selection import train_test_split\n",
    "from sklearn.naive_bayes import GaussianNB\n",
    "from sklearn.metrics import accuracy_score, classification_report\n",
    "from sklearn.svm import SVC\n",
    "\n",
    "# reading the dataset file \n",
    "df = pd.read_csv('glass.csv')\n",
    "\n",
    "X = df.drop(['Type'], axis=1)\n",
    "Y = df[\"Type\"]\n",
    "\n",
    "#splitting the dataset into training set and testing set\n",
    "X_Train, X_Test, Y_Train, Y_Test = train_test_split(X, Y, test_size=0.2,random_state = 42)\n",
    "\n",
    "#instantiating the Naive Bayes model and fitting it with traning set\n",
    "gnb = GaussianNB()\n",
    "gnb.fit(X_Train,Y_Train)\n",
    "\n",
    "# Predicting the Test set result\n",
    "Y_Pred = gnb.predict(X_Test)\n",
    "\n",
    "acc_knn = round(gnb.score(X_Train, Y_Train) * 100, 2)\n",
    "print('Train Accuracy: ', acc_knn)\n",
    "acc_knn = round(gnb.score(X_Test, Y_Test) * 100, 2)\n",
    "print('Test Accuracy: ', acc_knn)\n",
    "\n",
    "print('\\nClassification Report: \\n', classification_report(Y_Test, Y_Pred))\n",
    "\n",
    "\n",
    "\n"
   ]
  },
  {
   "cell_type": "code",
   "execution_count": 30,
   "id": "d940437f",
   "metadata": {},
   "outputs": [
    {
     "name": "stdout",
     "output_type": "stream",
     "text": [
      "Train Accuracy:  66.67\n",
      "Test Accuracy:  74.42\n",
      "Classification Report: \n",
      "               precision    recall  f1-score   support\n",
      "\n",
      "           1       0.41      0.64      0.50        11\n",
      "           2       0.43      0.21      0.29        14\n",
      "           3       0.40      0.67      0.50         3\n",
      "           5       0.50      0.25      0.33         4\n",
      "           6       1.00      1.00      1.00         3\n",
      "           7       0.89      1.00      0.94         8\n",
      "\n",
      "    accuracy                           0.56        43\n",
      "   macro avg       0.60      0.63      0.59        43\n",
      "weighted avg       0.55      0.56      0.53        43\n",
      "\n"
     ]
    }
   ],
   "source": [
    "#instantiating the linear SVM model and fitting it with traning set\n",
    "svm = SVC(kernel = 'linear')\n",
    "\n",
    "svm.fit(X_Train, Y_Train)\n",
    "\n",
    "Y_pred = svm.predict(X_Test)\n",
    "acc_knn = round(svm.score(X_Train, Y_Train) * 100, 2)\n",
    "print('Train Accuracy: ', acc_knn)\n",
    "acc_knn = round(svm.score(X_Test, Y_Test) * 100, 2)\n",
    "print('Test Accuracy: ', acc_knn)\n",
    "print('Classification Report: \\n', classification_report(Y_Test, Y_Pred,zero_division=1))"
   ]
  },
  {
   "cell_type": "code",
   "execution_count": 31,
   "id": "b658f829",
   "metadata": {},
   "outputs": [
    {
     "name": "stdout",
     "output_type": "stream",
     "text": [
      "Mean Squared Error: 21026037.329511303\n"
     ]
    },
    {
     "data": {
      "image/png": "[encoded data removed]",
      "text/plain": [
       "<Figure size 640x480 with 1 Axes>"
      ]
     },
     "metadata": {},
     "output_type": "display_data"
    }
   ],
   "source": [
    "data = pd.read_csv('Salary_Data.csv')\n",
    "\n",
    "X = data.iloc[:, :-1].values\n",
    "y = data.iloc[:, 1].values\n",
    "\n",
    "from sklearn.model_selection import train_test_split\n",
    "X_Train, X_Test, Y_Train, Y_Test = train_test_split(X,y,test_size=1/3,random_state = 0)\n",
    "\n",
    "from sklearn.linear_model import LinearRegression\n",
    "regressor = LinearRegression()\n",
    "regressor.fit(X_Train, Y_Train)\n",
    "\n",
    "Y_Pred = regressor.predict(X_Test)\n",
    "\n",
    "from sklearn.metrics import mean_squared_error\n",
    "\n",
    "# Assuming you have trained your linear regression model and obtained predictions in y_pred\n",
    "\n",
    "# Calculate the mean squared error\n",
    "mse = mean_squared_error(Y_Test, Y_Pred)\n",
    "print(\"Mean Squared Error:\", mse)\n",
    "\n",
    "import matplotlib.pyplot as plt\n",
    "\n",
    "# Assuming you have split the data into X_train, X_test, y_train, y_test\n",
    "\n",
    "# Scatter plot for training data\n",
    "plt.scatter(X_Train, Y_Train, color='blue', label='Training Data')\n",
    "\n",
    "# Scatter plot for testing data\n",
    "plt.scatter(X_Test, Y_Test, color='red', label='Testing Data')\n",
    "\n",
    "# Add labels and title to the plot\n",
    "plt.xlabel('X')\n",
    "plt.ylabel('y')\n",
    "plt.title('Scatter plot of Training and Testing Data')\n",
    "\n",
    "# Add legend\n",
    "plt.legend()\n",
    "\n",
    "# Display the plot\n",
    "plt.show()"
   ]
  },
  {
   "cell_type": "code",
   "execution_count": null,
   "id": "18674a03",
   "metadata": {},
   "outputs": [],
   "source": []
  }
 ],
 "metadata": {
  "kernelspec": {
   "display_name": "Python 3 (ipykernel)",
   "language": "python",
   "name": "python3"
  },
  "language_info": {
   "codemirror_mode": {
    "name": "ipython",
    "version": 3
   },
   "file_extension": ".py",
   "mimetype": "text/x-python",
   "name": "python",
   "nbconvert_exporter": "python",
   "pygments_lexer": "ipython3",
   "version": "3.9.13"
  }
 },
 "nbformat": 4,
 "nbformat_minor": 5
}
